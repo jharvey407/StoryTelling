{
 "cells": [
  {
   "cell_type": "markdown",
   "metadata": {
    "toc": true
   },
   "source": [
    "<h1>Table of Contents<span class=\"tocSkip\"></span></h1>\n",
    "<div class=\"toc\"><ul class=\"toc-item\"><li><span><a href=\"#Data-Regarding-Animal-Bites-in-Tennessee\" data-toc-modified-id=\"Data-Regarding-Animal-Bites-in-Tennessee-1\"><span class=\"toc-item-num\">1&nbsp;&nbsp;</span>Data Regarding Animal Bites in Tennessee</a></span><ul class=\"toc-item\"><li><span><a href=\"#Import-Libraries\" data-toc-modified-id=\"Import-Libraries-1.1\"><span class=\"toc-item-num\">1.1&nbsp;&nbsp;</span>Import Libraries</a></span></li><li><span><a href=\"#Load-dataframe-from-CSV-file\" data-toc-modified-id=\"Load-dataframe-from-CSV-file-1.2\"><span class=\"toc-item-num\">1.2&nbsp;&nbsp;</span>Load dataframe from CSV file</a></span><ul class=\"toc-item\"><li><span><a href=\"#Convert-bite_date-columnd-to-datetime\" data-toc-modified-id=\"Convert-bite_date-columnd-to-datetime-1.2.1\"><span class=\"toc-item-num\">1.2.1&nbsp;&nbsp;</span>Convert bite_date columnd to datetime</a></span></li><li><span><a href=\"#Display-Head-of-file\" data-toc-modified-id=\"Display-Head-of-file-1.2.2\"><span class=\"toc-item-num\">1.2.2&nbsp;&nbsp;</span>Display Head of file</a></span></li><li><span><a href=\"#Display-dataframe-info\" data-toc-modified-id=\"Display-dataframe-info-1.2.3\"><span class=\"toc-item-num\">1.2.3&nbsp;&nbsp;</span>Display dataframe info</a></span></li><li><span><a href=\"#Count-the-number-of-missing-values\" data-toc-modified-id=\"Count-the-number-of-missing-values-1.2.4\"><span class=\"toc-item-num\">1.2.4&nbsp;&nbsp;</span>Count the number of missing values</a></span></li></ul></li><li><span><a href=\"#Create-a-dataframe-of-species-and-number-of-bites\" data-toc-modified-id=\"Create-a-dataframe-of-species-and-number-of-bites-1.3\"><span class=\"toc-item-num\">1.3&nbsp;&nbsp;</span>Create a dataframe of species and number of bites</a></span><ul class=\"toc-item\"><li><span><a href=\"#Create-a-graph-of-bites-by-species\" data-toc-modified-id=\"Create-a-graph-of-bites-by-species-1.3.1\"><span class=\"toc-item-num\">1.3.1&nbsp;&nbsp;</span>Create a graph of bites by species</a></span></li></ul></li><li><span><a href=\"#Create-a-dataframe-of-where-people-were-bitten\" data-toc-modified-id=\"Create-a-dataframe-of-where-people-were-bitten-1.4\"><span class=\"toc-item-num\">1.4&nbsp;&nbsp;</span>Create a dataframe of where people were bitten</a></span><ul class=\"toc-item\"><li><span><a href=\"#Create-a-pie-chart-of-bite-locations\" data-toc-modified-id=\"Create-a-pie-chart-of-bite-locations-1.4.1\"><span class=\"toc-item-num\">1.4.1&nbsp;&nbsp;</span>Create a pie chart of bite locations</a></span></li></ul></li><li><span><a href=\"#Which-breed-is-the-most-dangerous\" data-toc-modified-id=\"Which-breed-is-the-most-dangerous-1.5\"><span class=\"toc-item-num\">1.5&nbsp;&nbsp;</span>Which breed is the most dangerous</a></span><ul class=\"toc-item\"><li><span><a href=\"#Creat-a-bar-chart-of-the-number-of-bites-per-breed\" data-toc-modified-id=\"Creat-a-bar-chart-of-the-number-of-bites-per-breed-1.5.1\"><span class=\"toc-item-num\">1.5.1&nbsp;&nbsp;</span>Creat a bar chart of the number of bites per breed</a></span></li></ul></li><li><span><a href=\"#How-often-are-people-being-bitten?\" data-toc-modified-id=\"How-often-are-people-being-bitten?-1.6\"><span class=\"toc-item-num\">1.6&nbsp;&nbsp;</span>How often are people being bitten?</a></span><ul class=\"toc-item\"><li><span><a href=\"#Create-a-bar-chart-of-bites-per-day\" data-toc-modified-id=\"Create-a-bar-chart-of-bites-per-day-1.6.1\"><span class=\"toc-item-num\">1.6.1&nbsp;&nbsp;</span>Create a bar chart of bites per day</a></span></li></ul></li></ul></li></ul></div>"
   ]
  },
  {
   "cell_type": "markdown",
   "metadata": {},
   "source": [
    "# Data Regarding Animal Bites in Tennessee"
   ]
  },
  {
   "cell_type": "markdown",
   "metadata": {},
   "source": [
    "## Import Libraries"
   ]
  },
  {
   "cell_type": "code",
   "execution_count": 45,
   "metadata": {},
   "outputs": [],
   "source": [
    "import pandas as pd\n",
    "import matplotlib.pyplot as plt\n",
    "import seaborn as sns\n",
    "\n",
    "from pandas.api.types import CategoricalDtype"
   ]
  },
  {
   "cell_type": "markdown",
   "metadata": {},
   "source": [
    "## Load dataframe from CSV file"
   ]
  },
  {
   "cell_type": "code",
   "execution_count": 2,
   "metadata": {
    "scrolled": false
   },
   "outputs": [],
   "source": [
    "bite_data = pd.read_csv('Health_AnimalBites.csv')"
   ]
  },
  {
   "cell_type": "markdown",
   "metadata": {},
   "source": [
    "### Convert bite_date columnd to datetime"
   ]
  },
  {
   "cell_type": "code",
   "execution_count": 4,
   "metadata": {},
   "outputs": [],
   "source": [
    "bite_data['bite_date'] = pd.to_datetime(bite_data['bite_date'], errors='coerce')"
   ]
  },
  {
   "cell_type": "markdown",
   "metadata": {},
   "source": [
    "### Display Head of file"
   ]
  },
  {
   "cell_type": "code",
   "execution_count": 46,
   "metadata": {},
   "outputs": [
    {
     "data": {
      "text/html": [
       "<div>\n",
       "<style scoped>\n",
       "    .dataframe tbody tr th:only-of-type {\n",
       "        vertical-align: middle;\n",
       "    }\n",
       "\n",
       "    .dataframe tbody tr th {\n",
       "        vertical-align: top;\n",
       "    }\n",
       "\n",
       "    .dataframe thead th {\n",
       "        text-align: right;\n",
       "    }\n",
       "</style>\n",
       "<table border=\"1\" class=\"dataframe\">\n",
       "  <thead>\n",
       "    <tr style=\"text-align: right;\">\n",
       "      <th></th>\n",
       "      <th>bite_date</th>\n",
       "      <th>SpeciesIDDesc</th>\n",
       "      <th>BreedIDDesc</th>\n",
       "      <th>GenderIDDesc</th>\n",
       "      <th>color</th>\n",
       "      <th>vaccination_yrs</th>\n",
       "      <th>vaccination_date</th>\n",
       "      <th>victim_zip</th>\n",
       "      <th>AdvIssuedYNDesc</th>\n",
       "      <th>WhereBittenIDDesc</th>\n",
       "      <th>quarantine_date</th>\n",
       "      <th>DispositionIDDesc</th>\n",
       "      <th>head_sent_date</th>\n",
       "      <th>release_date</th>\n",
       "      <th>ResultsIDDesc</th>\n",
       "    </tr>\n",
       "  </thead>\n",
       "  <tbody>\n",
       "    <tr>\n",
       "      <th>0</th>\n",
       "      <td>1985-05-05</td>\n",
       "      <td>DOG</td>\n",
       "      <td>NaN</td>\n",
       "      <td>FEMALE</td>\n",
       "      <td>LIG. BROWN</td>\n",
       "      <td>1.0</td>\n",
       "      <td>1985-06-20 00:00:00</td>\n",
       "      <td>40229</td>\n",
       "      <td>NO</td>\n",
       "      <td>BODY</td>\n",
       "      <td>1985-05-05 00:00:00</td>\n",
       "      <td>UNKNOWN</td>\n",
       "      <td>NaN</td>\n",
       "      <td>NaN</td>\n",
       "      <td>UNKNOWN</td>\n",
       "    </tr>\n",
       "    <tr>\n",
       "      <th>1</th>\n",
       "      <td>1986-02-12</td>\n",
       "      <td>DOG</td>\n",
       "      <td>NaN</td>\n",
       "      <td>UNKNOWN</td>\n",
       "      <td>BRO &amp; BLA</td>\n",
       "      <td>NaN</td>\n",
       "      <td>NaN</td>\n",
       "      <td>40218</td>\n",
       "      <td>NO</td>\n",
       "      <td>BODY</td>\n",
       "      <td>1986-02-12 00:00:00</td>\n",
       "      <td>UNKNOWN</td>\n",
       "      <td>NaN</td>\n",
       "      <td>NaN</td>\n",
       "      <td>UNKNOWN</td>\n",
       "    </tr>\n",
       "    <tr>\n",
       "      <th>2</th>\n",
       "      <td>1987-05-07</td>\n",
       "      <td>DOG</td>\n",
       "      <td>NaN</td>\n",
       "      <td>UNKNOWN</td>\n",
       "      <td>NaN</td>\n",
       "      <td>NaN</td>\n",
       "      <td>NaN</td>\n",
       "      <td>40219</td>\n",
       "      <td>NO</td>\n",
       "      <td>BODY</td>\n",
       "      <td>1990-05-07 00:00:00</td>\n",
       "      <td>UNKNOWN</td>\n",
       "      <td>NaN</td>\n",
       "      <td>NaN</td>\n",
       "      <td>UNKNOWN</td>\n",
       "    </tr>\n",
       "    <tr>\n",
       "      <th>3</th>\n",
       "      <td>1988-10-02</td>\n",
       "      <td>DOG</td>\n",
       "      <td>NaN</td>\n",
       "      <td>MALE</td>\n",
       "      <td>BLA &amp; BRO</td>\n",
       "      <td>NaN</td>\n",
       "      <td>NaN</td>\n",
       "      <td>NaN</td>\n",
       "      <td>NO</td>\n",
       "      <td>BODY</td>\n",
       "      <td>1990-10-02 00:00:00</td>\n",
       "      <td>UNKNOWN</td>\n",
       "      <td>NaN</td>\n",
       "      <td>NaN</td>\n",
       "      <td>UNKNOWN</td>\n",
       "    </tr>\n",
       "    <tr>\n",
       "      <th>4</th>\n",
       "      <td>1989-08-29</td>\n",
       "      <td>DOG</td>\n",
       "      <td>NaN</td>\n",
       "      <td>FEMALE</td>\n",
       "      <td>BLK-WHT</td>\n",
       "      <td>NaN</td>\n",
       "      <td>NaN</td>\n",
       "      <td>NaN</td>\n",
       "      <td>NO</td>\n",
       "      <td>BODY</td>\n",
       "      <td>NaN</td>\n",
       "      <td>UNKNOWN</td>\n",
       "      <td>NaN</td>\n",
       "      <td>NaN</td>\n",
       "      <td>UNKNOWN</td>\n",
       "    </tr>\n",
       "  </tbody>\n",
       "</table>\n",
       "</div>"
      ],
      "text/plain": [
       "   bite_date SpeciesIDDesc BreedIDDesc GenderIDDesc       color  \\\n",
       "0 1985-05-05           DOG         NaN       FEMALE  LIG. BROWN   \n",
       "1 1986-02-12           DOG         NaN      UNKNOWN   BRO & BLA   \n",
       "2 1987-05-07           DOG         NaN      UNKNOWN         NaN   \n",
       "3 1988-10-02           DOG         NaN         MALE   BLA & BRO   \n",
       "4 1989-08-29           DOG         NaN       FEMALE     BLK-WHT   \n",
       "\n",
       "   vaccination_yrs     vaccination_date victim_zip AdvIssuedYNDesc  \\\n",
       "0              1.0  1985-06-20 00:00:00      40229              NO   \n",
       "1              NaN                  NaN      40218              NO   \n",
       "2              NaN                  NaN      40219              NO   \n",
       "3              NaN                  NaN        NaN              NO   \n",
       "4              NaN                  NaN        NaN              NO   \n",
       "\n",
       "  WhereBittenIDDesc      quarantine_date DispositionIDDesc head_sent_date  \\\n",
       "0              BODY  1985-05-05 00:00:00           UNKNOWN            NaN   \n",
       "1              BODY  1986-02-12 00:00:00           UNKNOWN            NaN   \n",
       "2              BODY  1990-05-07 00:00:00           UNKNOWN            NaN   \n",
       "3              BODY  1990-10-02 00:00:00           UNKNOWN            NaN   \n",
       "4              BODY                  NaN           UNKNOWN            NaN   \n",
       "\n",
       "  release_date ResultsIDDesc  \n",
       "0          NaN       UNKNOWN  \n",
       "1          NaN       UNKNOWN  \n",
       "2          NaN       UNKNOWN  \n",
       "3          NaN       UNKNOWN  \n",
       "4          NaN       UNKNOWN  "
      ]
     },
     "execution_count": 46,
     "metadata": {},
     "output_type": "execute_result"
    }
   ],
   "source": [
    "bite_data.head()"
   ]
  },
  {
   "cell_type": "markdown",
   "metadata": {},
   "source": [
    "### Display dataframe info"
   ]
  },
  {
   "cell_type": "code",
   "execution_count": 6,
   "metadata": {},
   "outputs": [
    {
     "name": "stdout",
     "output_type": "stream",
     "text": [
      "<class 'pandas.core.frame.DataFrame'>\n",
      "RangeIndex: 9003 entries, 0 to 9002\n",
      "Data columns (total 15 columns):\n",
      " #   Column             Non-Null Count  Dtype         \n",
      "---  ------             --------------  -----         \n",
      " 0   bite_date          8685 non-null   datetime64[ns]\n",
      " 1   SpeciesIDDesc      8885 non-null   object        \n",
      " 2   BreedIDDesc        3759 non-null   object        \n",
      " 3   GenderIDDesc       6477 non-null   object        \n",
      " 4   color              6426 non-null   object        \n",
      " 5   vaccination_yrs    3738 non-null   float64       \n",
      " 6   vaccination_date   4115 non-null   object        \n",
      " 7   victim_zip         7165 non-null   object        \n",
      " 8   AdvIssuedYNDesc    2565 non-null   object        \n",
      " 9   WhereBittenIDDesc  8387 non-null   object        \n",
      " 10  quarantine_date    2020 non-null   object        \n",
      " 11  DispositionIDDesc  1535 non-null   object        \n",
      " 12  head_sent_date     395 non-null    object        \n",
      " 13  release_date       1445 non-null   object        \n",
      " 14  ResultsIDDesc      1543 non-null   object        \n",
      "dtypes: datetime64[ns](1), float64(1), object(13)\n",
      "memory usage: 1.0+ MB\n"
     ]
    }
   ],
   "source": [
    "bite_data.info()"
   ]
  },
  {
   "cell_type": "markdown",
   "metadata": {},
   "source": [
    "### Count the number of missing values"
   ]
  },
  {
   "cell_type": "code",
   "execution_count": 7,
   "metadata": {},
   "outputs": [
    {
     "data": {
      "text/html": [
       "<div>\n",
       "<style scoped>\n",
       "    .dataframe tbody tr th:only-of-type {\n",
       "        vertical-align: middle;\n",
       "    }\n",
       "\n",
       "    .dataframe tbody tr th {\n",
       "        vertical-align: top;\n",
       "    }\n",
       "\n",
       "    .dataframe thead th {\n",
       "        text-align: right;\n",
       "    }\n",
       "</style>\n",
       "<table border=\"1\" class=\"dataframe\">\n",
       "  <thead>\n",
       "    <tr style=\"text-align: right;\">\n",
       "      <th></th>\n",
       "      <th>count</th>\n",
       "      <th>%</th>\n",
       "    </tr>\n",
       "  </thead>\n",
       "  <tbody>\n",
       "    <tr>\n",
       "      <th>SpeciesIDDesc</th>\n",
       "      <td>118</td>\n",
       "      <td>1.310674</td>\n",
       "    </tr>\n",
       "    <tr>\n",
       "      <th>bite_date</th>\n",
       "      <td>318</td>\n",
       "      <td>3.532156</td>\n",
       "    </tr>\n",
       "    <tr>\n",
       "      <th>WhereBittenIDDesc</th>\n",
       "      <td>616</td>\n",
       "      <td>6.842164</td>\n",
       "    </tr>\n",
       "    <tr>\n",
       "      <th>victim_zip</th>\n",
       "      <td>1838</td>\n",
       "      <td>20.415417</td>\n",
       "    </tr>\n",
       "    <tr>\n",
       "      <th>GenderIDDesc</th>\n",
       "      <td>2526</td>\n",
       "      <td>28.057314</td>\n",
       "    </tr>\n",
       "    <tr>\n",
       "      <th>color</th>\n",
       "      <td>2577</td>\n",
       "      <td>28.623792</td>\n",
       "    </tr>\n",
       "    <tr>\n",
       "      <th>vaccination_date</th>\n",
       "      <td>4888</td>\n",
       "      <td>54.293013</td>\n",
       "    </tr>\n",
       "    <tr>\n",
       "      <th>BreedIDDesc</th>\n",
       "      <td>5244</td>\n",
       "      <td>58.247251</td>\n",
       "    </tr>\n",
       "    <tr>\n",
       "      <th>vaccination_yrs</th>\n",
       "      <td>5265</td>\n",
       "      <td>58.480506</td>\n",
       "    </tr>\n",
       "    <tr>\n",
       "      <th>AdvIssuedYNDesc</th>\n",
       "      <td>6438</td>\n",
       "      <td>71.509497</td>\n",
       "    </tr>\n",
       "    <tr>\n",
       "      <th>quarantine_date</th>\n",
       "      <td>6983</td>\n",
       "      <td>77.563035</td>\n",
       "    </tr>\n",
       "    <tr>\n",
       "      <th>ResultsIDDesc</th>\n",
       "      <td>7460</td>\n",
       "      <td>82.861268</td>\n",
       "    </tr>\n",
       "    <tr>\n",
       "      <th>DispositionIDDesc</th>\n",
       "      <td>7468</td>\n",
       "      <td>82.950128</td>\n",
       "    </tr>\n",
       "    <tr>\n",
       "      <th>release_date</th>\n",
       "      <td>7558</td>\n",
       "      <td>83.949795</td>\n",
       "    </tr>\n",
       "    <tr>\n",
       "      <th>head_sent_date</th>\n",
       "      <td>8608</td>\n",
       "      <td>95.612574</td>\n",
       "    </tr>\n",
       "  </tbody>\n",
       "</table>\n",
       "</div>"
      ],
      "text/plain": [
       "                   count          %\n",
       "SpeciesIDDesc        118   1.310674\n",
       "bite_date            318   3.532156\n",
       "WhereBittenIDDesc    616   6.842164\n",
       "victim_zip          1838  20.415417\n",
       "GenderIDDesc        2526  28.057314\n",
       "color               2577  28.623792\n",
       "vaccination_date    4888  54.293013\n",
       "BreedIDDesc         5244  58.247251\n",
       "vaccination_yrs     5265  58.480506\n",
       "AdvIssuedYNDesc     6438  71.509497\n",
       "quarantine_date     6983  77.563035\n",
       "ResultsIDDesc       7460  82.861268\n",
       "DispositionIDDesc   7468  82.950128\n",
       "release_date        7558  83.949795\n",
       "head_sent_date      8608  95.612574"
      ]
     },
     "execution_count": 7,
     "metadata": {},
     "output_type": "execute_result"
    }
   ],
   "source": [
    "missing = pd.concat([bite_data.isnull().sum(), 100 * bite_data.isnull().mean()], axis=1)\n",
    "missing.columns=['count', '%']\n",
    "missing.sort_values(by='count')"
   ]
  },
  {
   "cell_type": "markdown",
   "metadata": {},
   "source": [
    "## Create a dataframe of species and number of bites"
   ]
  },
  {
   "cell_type": "code",
   "execution_count": 8,
   "metadata": {},
   "outputs": [
    {
     "data": {
      "text/html": [
       "<div>\n",
       "<style scoped>\n",
       "    .dataframe tbody tr th:only-of-type {\n",
       "        vertical-align: middle;\n",
       "    }\n",
       "\n",
       "    .dataframe tbody tr th {\n",
       "        vertical-align: top;\n",
       "    }\n",
       "\n",
       "    .dataframe thead th {\n",
       "        text-align: right;\n",
       "    }\n",
       "</style>\n",
       "<table border=\"1\" class=\"dataframe\">\n",
       "  <thead>\n",
       "    <tr style=\"text-align: right;\">\n",
       "      <th></th>\n",
       "      <th>Species</th>\n",
       "      <th>Count</th>\n",
       "    </tr>\n",
       "  </thead>\n",
       "  <tbody>\n",
       "    <tr>\n",
       "      <th>0</th>\n",
       "      <td>DOG</td>\n",
       "      <td>7029</td>\n",
       "    </tr>\n",
       "    <tr>\n",
       "      <th>1</th>\n",
       "      <td>CAT</td>\n",
       "      <td>1568</td>\n",
       "    </tr>\n",
       "    <tr>\n",
       "      <th>2</th>\n",
       "      <td>BAT</td>\n",
       "      <td>237</td>\n",
       "    </tr>\n",
       "    <tr>\n",
       "      <th>3</th>\n",
       "      <td>RACCOON</td>\n",
       "      <td>27</td>\n",
       "    </tr>\n",
       "    <tr>\n",
       "      <th>4</th>\n",
       "      <td>OTHER</td>\n",
       "      <td>11</td>\n",
       "    </tr>\n",
       "  </tbody>\n",
       "</table>\n",
       "</div>"
      ],
      "text/plain": [
       "   Species  Count\n",
       "0      DOG   7029\n",
       "1      CAT   1568\n",
       "2      BAT    237\n",
       "3  RACCOON     27\n",
       "4    OTHER     11"
      ]
     },
     "execution_count": 8,
     "metadata": {},
     "output_type": "execute_result"
    }
   ],
   "source": [
    "bite_by_species = bite_data['SpeciesIDDesc'].value_counts().to_frame(name='count')\n",
    "bite_by_species = bite_by_species.reset_index()\n",
    "bite_by_species = bite_by_species.rename(columns={'index':'Species','count':'Count'})\n",
    "bite_by_species.head()"
   ]
  },
  {
   "cell_type": "markdown",
   "metadata": {},
   "source": [
    "### Create a graph of bites by species"
   ]
  },
  {
   "cell_type": "code",
   "execution_count": 9,
   "metadata": {},
   "outputs": [
    {
     "data": {
      "image/png": "[encoded data removed]",
      "text/plain": [
       "<Figure size 1080x504 with 1 Axes>"
      ]
     },
     "metadata": {
      "needs_background": "light"
     },
     "output_type": "display_data"
    }
   ],
   "source": [
    "plt.figure(figsize=(15,7))\n",
    "g = sns.barplot(x='Species', y='Count', data=bite_by_species)\n",
    "g.set_yscale('log')\n",
    "for index, row in bite_by_species.iterrows():\n",
    "    g.text(row.name,row.Count, round(row.Count,2), color='black', ha=\"center\")\n",
    "g.set_xlabel('Species', fontsize=14)\n",
    "g.set_ylabel('Number of Bites (logarithmic scale)', fontsize=14)\n",
    "g.set_title('Who Keeps Bitting People!', fontsize=16)\n",
    "plt.savefig('BiteBySpecies.png')"
   ]
  },
  {
   "cell_type": "markdown",
   "metadata": {},
   "source": [
    "## Create a dataframe of where people were bitten"
   ]
  },
  {
   "cell_type": "code",
   "execution_count": 10,
   "metadata": {},
   "outputs": [
    {
     "data": {
      "text/html": [
       "<div>\n",
       "<style scoped>\n",
       "    .dataframe tbody tr th:only-of-type {\n",
       "        vertical-align: middle;\n",
       "    }\n",
       "\n",
       "    .dataframe tbody tr th {\n",
       "        vertical-align: top;\n",
       "    }\n",
       "\n",
       "    .dataframe thead th {\n",
       "        text-align: right;\n",
       "    }\n",
       "</style>\n",
       "<table border=\"1\" class=\"dataframe\">\n",
       "  <thead>\n",
       "    <tr style=\"text-align: right;\">\n",
       "      <th></th>\n",
       "      <th>Location</th>\n",
       "      <th>Count</th>\n",
       "    </tr>\n",
       "  </thead>\n",
       "  <tbody>\n",
       "    <tr>\n",
       "      <th>0</th>\n",
       "      <td>BODY</td>\n",
       "      <td>6213</td>\n",
       "    </tr>\n",
       "    <tr>\n",
       "      <th>1</th>\n",
       "      <td>HEAD</td>\n",
       "      <td>1244</td>\n",
       "    </tr>\n",
       "    <tr>\n",
       "      <th>2</th>\n",
       "      <td>UNKNOWN</td>\n",
       "      <td>930</td>\n",
       "    </tr>\n",
       "  </tbody>\n",
       "</table>\n",
       "</div>"
      ],
      "text/plain": [
       "  Location  Count\n",
       "0     BODY   6213\n",
       "1     HEAD   1244\n",
       "2  UNKNOWN    930"
      ]
     },
     "execution_count": 10,
     "metadata": {},
     "output_type": "execute_result"
    }
   ],
   "source": [
    "bite_location = bite_data['WhereBittenIDDesc'].value_counts().to_frame(name='count')\n",
    "bite_location = bite_location.reset_index()\n",
    "bite_location = bite_location.rename(columns={'index':'Location','count':'Count'})\n",
    "bite_location.head()"
   ]
  },
  {
   "cell_type": "markdown",
   "metadata": {},
   "source": [
    "### Create a pie chart of bite locations"
   ]
  },
  {
   "cell_type": "code",
   "execution_count": 11,
   "metadata": {},
   "outputs": [
    {
     "data": {
      "image/png": "[encoded data removed]",
      "text/plain": [
       "<Figure size 576x576 with 1 Axes>"
      ]
     },
     "metadata": {},
     "output_type": "display_data"
    }
   ],
   "source": [
    "labels = bite_location['Location']\n",
    "sizes = bite_location['Count']\n",
    "\n",
    "fig, ax = plt.subplots(figsize=(8,8))\n",
    "ax.pie(sizes, labels=labels, autopct='%1.0f%%')\n",
    "ax.axis('equal')\n",
    "plt.title('Where Did They Bite Them?', fontsize=18);\n",
    "plt.savefig('BiteLocations.png')"
   ]
  },
  {
   "cell_type": "markdown",
   "metadata": {},
   "source": [
    "## Which breed is the most dangerous"
   ]
  },
  {
   "cell_type": "code",
   "execution_count": 12,
   "metadata": {},
   "outputs": [
    {
     "data": {
      "text/plain": [
       "Index(['bite_date', 'SpeciesIDDesc', 'BreedIDDesc', 'GenderIDDesc', 'color',\n",
       "       'vaccination_yrs', 'vaccination_date', 'victim_zip', 'AdvIssuedYNDesc',\n",
       "       'WhereBittenIDDesc', 'quarantine_date', 'DispositionIDDesc',\n",
       "       'head_sent_date', 'release_date', 'ResultsIDDesc'],\n",
       "      dtype='object')"
      ]
     },
     "execution_count": 12,
     "metadata": {},
     "output_type": "execute_result"
    }
   ],
   "source": [
    "bite_data.columns"
   ]
  },
  {
   "cell_type": "code",
   "execution_count": 13,
   "metadata": {},
   "outputs": [
    {
     "data": {
      "text/html": [
       "<div>\n",
       "<style scoped>\n",
       "    .dataframe tbody tr th:only-of-type {\n",
       "        vertical-align: middle;\n",
       "    }\n",
       "\n",
       "    .dataframe tbody tr th {\n",
       "        vertical-align: top;\n",
       "    }\n",
       "\n",
       "    .dataframe thead th {\n",
       "        text-align: right;\n",
       "    }\n",
       "</style>\n",
       "<table border=\"1\" class=\"dataframe\">\n",
       "  <thead>\n",
       "    <tr style=\"text-align: right;\">\n",
       "      <th></th>\n",
       "      <th>Breed</th>\n",
       "      <th>Count</th>\n",
       "    </tr>\n",
       "  </thead>\n",
       "  <tbody>\n",
       "    <tr>\n",
       "      <th>0</th>\n",
       "      <td>PIT BULL</td>\n",
       "      <td>1102</td>\n",
       "    </tr>\n",
       "    <tr>\n",
       "      <th>1</th>\n",
       "      <td>GERM SHEPHERD</td>\n",
       "      <td>327</td>\n",
       "    </tr>\n",
       "    <tr>\n",
       "      <th>2</th>\n",
       "      <td>LABRADOR RETRIV</td>\n",
       "      <td>253</td>\n",
       "    </tr>\n",
       "    <tr>\n",
       "      <th>3</th>\n",
       "      <td>BOXER</td>\n",
       "      <td>181</td>\n",
       "    </tr>\n",
       "    <tr>\n",
       "      <th>4</th>\n",
       "      <td>CHICHAUHUA</td>\n",
       "      <td>165</td>\n",
       "    </tr>\n",
       "  </tbody>\n",
       "</table>\n",
       "</div>"
      ],
      "text/plain": [
       "             Breed  Count\n",
       "0         PIT BULL   1102\n",
       "1    GERM SHEPHERD    327\n",
       "2  LABRADOR RETRIV    253\n",
       "3            BOXER    181\n",
       "4       CHICHAUHUA    165"
      ]
     },
     "execution_count": 13,
     "metadata": {},
     "output_type": "execute_result"
    }
   ],
   "source": [
    "breed_data = bite_data['BreedIDDesc'].dropna()\n",
    "breed_data = breed_data.value_counts().to_frame(name='Count')\n",
    "breed_data = breed_data.reset_index()\n",
    "breed_data = breed_data.rename(columns={'index':'Breed'})\n",
    "breed_data.head()"
   ]
  },
  {
   "cell_type": "markdown",
   "metadata": {},
   "source": [
    "### Creat a bar chart of the number of bites per breed"
   ]
  },
  {
   "cell_type": "code",
   "execution_count": 14,
   "metadata": {},
   "outputs": [
    {
     "data": {
      "image/png": "[encoded data removed]",
      "text/plain": [
       "<Figure size 1080x504 with 1 Axes>"
      ]
     },
     "metadata": {
      "needs_background": "light"
     },
     "output_type": "display_data"
    }
   ],
   "source": [
    "plt.figure(figsize=(15,7))\n",
    "g = sns.barplot(x='Breed', y='Count', data=breed_data.loc[0:9, :])\n",
    "\n",
    "\n",
    "g.set_xlabel('Breed', fontsize=14)\n",
    "g.set_ylabel('Number of Bites', fontsize=14)\n",
    "g.set_title('Which Breed is the Most Dangerous!', fontsize=16)\n",
    "plt.savefig('BiteByBreed.png')"
   ]
  },
  {
   "cell_type": "markdown",
   "metadata": {},
   "source": [
    "## How often are people being bitten?"
   ]
  },
  {
   "cell_type": "code",
   "execution_count": 26,
   "metadata": {},
   "outputs": [
    {
     "data": {
      "text/plain": [
       "Index(['bite_date', 'SpeciesIDDesc', 'BreedIDDesc', 'GenderIDDesc', 'color',\n",
       "       'vaccination_yrs', 'vaccination_date', 'victim_zip', 'AdvIssuedYNDesc',\n",
       "       'WhereBittenIDDesc', 'quarantine_date', 'DispositionIDDesc',\n",
       "       'head_sent_date', 'release_date', 'ResultsIDDesc'],\n",
       "      dtype='object')"
      ]
     },
     "execution_count": 26,
     "metadata": {},
     "output_type": "execute_result"
    }
   ],
   "source": [
    "bite_data.columns"
   ]
  },
  {
   "cell_type": "code",
   "execution_count": 35,
   "metadata": {},
   "outputs": [
    {
     "data": {
      "text/html": [
       "<div>\n",
       "<style scoped>\n",
       "    .dataframe tbody tr th:only-of-type {\n",
       "        vertical-align: middle;\n",
       "    }\n",
       "\n",
       "    .dataframe tbody tr th {\n",
       "        vertical-align: top;\n",
       "    }\n",
       "\n",
       "    .dataframe thead th {\n",
       "        text-align: right;\n",
       "    }\n",
       "</style>\n",
       "<table border=\"1\" class=\"dataframe\">\n",
       "  <thead>\n",
       "    <tr style=\"text-align: right;\">\n",
       "      <th></th>\n",
       "      <th>Day</th>\n",
       "      <th>Count</th>\n",
       "    </tr>\n",
       "  </thead>\n",
       "  <tbody>\n",
       "    <tr>\n",
       "      <th>5</th>\n",
       "      <td>0.0</td>\n",
       "      <td>1194</td>\n",
       "    </tr>\n",
       "    <tr>\n",
       "      <th>1</th>\n",
       "      <td>1.0</td>\n",
       "      <td>1271</td>\n",
       "    </tr>\n",
       "    <tr>\n",
       "      <th>6</th>\n",
       "      <td>2.0</td>\n",
       "      <td>1139</td>\n",
       "    </tr>\n",
       "    <tr>\n",
       "      <th>4</th>\n",
       "      <td>3.0</td>\n",
       "      <td>1213</td>\n",
       "    </tr>\n",
       "    <tr>\n",
       "      <th>3</th>\n",
       "      <td>4.0</td>\n",
       "      <td>1217</td>\n",
       "    </tr>\n",
       "    <tr>\n",
       "      <th>0</th>\n",
       "      <td>5.0</td>\n",
       "      <td>1399</td>\n",
       "    </tr>\n",
       "    <tr>\n",
       "      <th>2</th>\n",
       "      <td>6.0</td>\n",
       "      <td>1252</td>\n",
       "    </tr>\n",
       "  </tbody>\n",
       "</table>\n",
       "</div>"
      ],
      "text/plain": [
       "   Day  Count\n",
       "5  0.0   1194\n",
       "1  1.0   1271\n",
       "6  2.0   1139\n",
       "4  3.0   1213\n",
       "3  4.0   1217\n",
       "0  5.0   1399\n",
       "2  6.0   1252"
      ]
     },
     "execution_count": 35,
     "metadata": {},
     "output_type": "execute_result"
    }
   ],
   "source": [
    "daily_bites = bite_data['bite_date'].to_frame()\n",
    "daily_bites['bite_date'] = daily_bites['bite_date'].dt.dayofweek\n",
    "daily_bites = daily_bites.value_counts().to_frame().reset_index().rename(columns={'bite_date':'Day', 0:'Count'})\n",
    "daily_bites = daily_bites.sort_values(by=['Day'])\n",
    "daily_bites.head(7)"
   ]
  },
  {
   "cell_type": "markdown",
   "metadata": {},
   "source": [
    "### Create a bar chart of bites per day"
   ]
  },
  {
   "cell_type": "code",
   "execution_count": 44,
   "metadata": {},
   "outputs": [
    {
     "data": {
      "image/png": "[encoded data removed]",
      "text/plain": [
       "<Figure size 1080x504 with 1 Axes>"
      ]
     },
     "metadata": {
      "needs_background": "light"
     },
     "output_type": "display_data"
    }
   ],
   "source": [
    "plt.figure(figsize=(15,7))\n",
    "g = sns.barplot(x='Day', y='Count', data=daily_bites)\n",
    "\n",
    "g.set_xticklabels(['Sun','Mon','Tue','Wed','Thur','Fri','Sat'])\n",
    "g.set_xlabel('Day', fontsize=14)\n",
    "g.set_ylabel('Number of Bites', fontsize=14)\n",
    "g.set_title('Which Day is the Most Dangerous!', fontsize=16)\n",
    "plt.savefig('BiteByDay.png')"
   ]
  },
  {
   "cell_type": "code",
   "execution_count": null,
   "metadata": {},
   "outputs": [],
   "source": []
  }
 ],
 "metadata": {
  "kernelspec": {
   "display_name": "Python 3",
   "language": "python",
   "name": "python3"
  },
  "language_info": {
   "codemirror_mode": {
    "name": "ipython",
    "version": 3
   },
   "file_extension": ".py",
   "mimetype": "text/x-python",
   "name": "python",
   "nbconvert_exporter": "python",
   "pygments_lexer": "ipython3",
   "version": "3.8.5"
  },
  "toc": {
   "base_numbering": 1,
   "nav_menu": {},
   "number_sections": true,
   "sideBar": true,
   "skip_h1_title": false,
   "title_cell": "Table of Contents",
   "title_sidebar": "Contents",
   "toc_cell": true,
   "toc_position": {},
   "toc_section_display": true,
   "toc_window_display": true
  }
 },
 "nbformat": 4,
 "nbformat_minor": 2
}
